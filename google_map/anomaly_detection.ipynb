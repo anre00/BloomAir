{
 "cells": [
  {
   "cell_type": "code",
   "execution_count": 5,
   "metadata": {},
   "outputs": [],
   "source": [
    "import numpy as np\n",
    "import matplotlib.pyplot as plt\n",
    "from sklearn.ensemble import IsolationForest  \n",
    "from sklearn.linear_model import LinearRegression\n",
    "import pandas as pd\n",
    "import time"
   ]
  },
  {
   "cell_type": "code",
   "execution_count": 6,
   "metadata": {},
   "outputs": [],
   "source": [
    "df = pd.read_csv('test.csv')\n",
    "df_train = df.iloc[:100, :]\n",
    "df_test = df.iloc[100:, :]\n",
    "X_train = np.array(df_train[['Temp_F', 'Humidity']])\n",
    "X_test = np.array(df_test[['Temp_F', 'Humidity']])\n",
    "# X_train"
   ]
  },
  {
   "cell_type": "code",
   "execution_count": 7,
   "metadata": {},
   "outputs": [
    {
     "data": {
      "text/plain": [
       "array([[63.63565726]])"
      ]
     },
     "execution_count": 7,
     "metadata": {},
     "output_type": "execute_result"
    }
   ],
   "source": [
    "reg = LinearRegression().fit(X_train[:, :1], X_train[:, 1:])\n",
    "reg.predict(np.array([[62]]))"
   ]
  },
  {
   "cell_type": "code",
   "execution_count": 10,
   "metadata": {},
   "outputs": [
    {
     "name": "stderr",
     "output_type": "stream",
     "text": [
      "/Users/feichi/annaconda/anaconda3/envs/bloomAir/lib/python3.10/site-packages/sklearn/ensemble/_iforest.py:289: UserWarning: max_samples (256) is greater than the total number of samples (100). max_samples will be set to n_samples for estimation.\n",
      "  warn(\n"
     ]
    },
    {
     "name": "stdout",
     "output_type": "stream",
     "text": [
      "[ 1  1  1  1  1 -1 -1 -1 -1  1  1  1  1  1  1  1  1  1  1  1]\n",
      "4\n",
      "[1 2 3 4]\n"
     ]
    },
    {
     "data": {
      "image/png": "[encoded data removed]",
      "text/plain": [
       "<Figure size 640x480 with 1 Axes>"
      ]
     },
     "metadata": {},
     "output_type": "display_data"
    }
   ],
   "source": [
    "clf = IsolationForest(max_samples=256,random_state=100, contamination = 0.1)\n",
    "clf.fit(X_train)\n",
    "y_pred_test = clf.predict(X_test)\n",
    "print(y_pred_test)\n",
    "anomaly_data = df_test.iloc[(y_pred_test == -1), :]\n",
    "alert_id = df_test.iloc[(y_pred_test == -1), :]['id']\n",
    "nomal_data = df_test.iloc[(y_pred_test == 1), :]\n",
    "print(len(anomaly_data))\n",
    "plt.plot()\n",
    "plt.scatter(anomaly_data['Temp_F'], anomaly_data['Humidity'], color = 'r', s = 1)\n",
    "plt.scatter(nomal_data['Temp_F'], nomal_data['Humidity'], color = 'b', s = 1)\n",
    "print(np.unique(alert_id))"
   ]
  },
  {
   "cell_type": "code",
   "execution_count": 12,
   "metadata": {},
   "outputs": [],
   "source": [
    "data_list = []\n",
    "lon_list = [8.545, 8.5453]\n",
    "lat_list = [47.372, 47.374]\n",
    "id_list = [1, 2]\n",
    "id_curr = 2\n",
    "\n",
    "for t in range(1000):\n",
    "    time.sleep(1)\n",
    "\n",
    "    if t%100 == 0:\n",
    "        id_curr += 1\n",
    "        lat = np.random.uniform(47.37, 47.38)\n",
    "        lon = np.random.uniform(8.544, 8.556)\n",
    "        id_list.append(id_curr)\n",
    "        lon_list.append(lon)\n",
    "        lat_list.append(lat)\n",
    "\n",
    "    for i in range(len(id_list)):\n",
    "        id = id_list[i]\n",
    "        lon = lon_list[i]\n",
    "        lat = lat_list[i]\n",
    "        p = np.random.choice([1,0], 1, p=[0.9, 0.1])[0]\n",
    "        if p == 1:\n",
    "            temp = np.random.uniform(60,90)\n",
    "            humidity = reg.predict(np.array([[temp]]))[0][0] + np.random.uniform(-1,1)\n",
    "        if p == 0:\n",
    "            temp = np.random.uniform(50, 60)\n",
    "            humidity = reg.predict(np.array([[temp]]))[0][0] + np.random.uniform(-10,10)\n",
    "    \n",
    "        data_list.append([id, lon, lat, t, temp, humidity, 0])\n",
    "        df_data = pd.DataFrame(data_list, columns = ['id', 'lon', 'lat', 't' , 'temp', 'humidity', 'c_alert'])\n",
    "    \n",
    "    df_data.to_csv('df_test.csv', index = 0)"
   ]
  },
  {
   "cell_type": "code",
   "execution_count": 6,
   "metadata": {},
   "outputs": [
    {
     "name": "stderr",
     "output_type": "stream",
     "text": [
      "/Users/feichi/annaconda/anaconda3/envs/bloomAir/lib/python3.10/site-packages/sklearn/ensemble/_iforest.py:289: UserWarning: max_samples (256) is greater than the total number of samples (100). max_samples will be set to n_samples for estimation.\n",
      "  warn(\n"
     ]
    },
    {
     "name": "stdout",
     "output_type": "stream",
     "text": [
      "[ 1  1  1  1  1  1  1  1  1  1  1  1  1  1  1  1  1  1  1  1  1  1  1  1\n",
      "  1  1  1  1 -1 -1  1  1  1  1  1  1  1  1  1  1  1  1  1  1  1  1  1  1\n",
      "  1  1  1  1  1  1  1  1  1  1  1 -1  1 -1 -1 -1 -1  1  1  1  1  1  1  1\n",
      "  1  1  1  1  1  1  1  1  1  1 -1 -1  1  1  1  1  1  1  1 -1  1  1  1  1\n",
      "  1  1  1  1]\n",
      "10\n",
      "[2 3 4 5]\n"
     ]
    },
    {
     "data": {
      "image/png": "[encoded data removed]",
      "text/plain": [
       "<Figure size 640x480 with 1 Axes>"
      ]
     },
     "metadata": {},
     "output_type": "display_data"
    }
   ],
   "source": [
    "clf = IsolationForest(max_samples=256,random_state=100, contamination = 0.1)\n",
    "clf.fit(X_train)\n",
    "y_pred_test = clf.predict(X_train)\n",
    "print(y_pred_test)\n",
    "anomaly_data = df_train.iloc[(y_pred_test == -1), :]\n",
    "alert_id = df_train.iloc[(y_pred_test == -1), :]['id']\n",
    "nomal_data = df_train.iloc[(y_pred_test == 1), :]\n",
    "print(len(anomaly_data))\n",
    "plt.plot()\n",
    "plt.scatter(anomaly_data['Temp_F'], anomaly_data['Humidity'], color = 'r', s = 1)\n",
    "plt.scatter(nomal_data['Temp_F'], nomal_data['Humidity'], color = 'b', s = 1)\n",
    "plt.xlabel('Temp(F)')\n",
    "plt.ylabel('Humidity')\n",
    "print(np.unique(alert_id))"
   ]
  }
 ],
 "metadata": {
  "kernelspec": {
   "display_name": "Python 3.10.4 ('bloomAir')",
   "language": "python",
   "name": "python3"
  },
  "language_info": {
   "codemirror_mode": {
    "name": "ipython",
    "version": 3
   },
   "file_extension": ".py",
   "mimetype": "text/x-python",
   "name": "python",
   "nbconvert_exporter": "python",
   "pygments_lexer": "ipython3",
   "version": "3.10.4"
  },
  "orig_nbformat": 4,
  "vscode": {
   "interpreter": {
    "hash": "52808c3d0bf3cd29d9525bc36a175819700ea912d7724964e98bfab1ea407697"
   }
  }
 },
 "nbformat": 4,
 "nbformat_minor": 2
}
